{
  "nbformat": 4,
  "nbformat_minor": 0,
  "metadata": {
    "colab": {
      "provenance": [],
      "authorship_tag": "ABX9TyMXsoyIoURgoHrtaSkCnEa3",
      "include_colab_link": true
    },
    "kernelspec": {
      "name": "python3",
      "display_name": "Python 3"
    },
    "language_info": {
      "name": "python"
    }
  },
  "cells": [
    {
      "cell_type": "markdown",
      "metadata": {
        "id": "view-in-github",
        "colab_type": "text"
      },
      "source": [
        "<a href=\"https://colab.research.google.com/github/aqibfirdous/DS-ML/blob/main/compresscsvfile.ipynb\" target=\"_parent\"><img src=\"https://colab.research.google.com/assets/colab-badge.svg\" alt=\"Open In Colab\"/></a>"
      ]
    },
    {
      "cell_type": "code",
      "execution_count": 6,
      "metadata": {
        "colab": {
          "base_uri": "https://localhost:8080/"
        },
        "id": "ShJ82Oepjrx_",
        "outputId": "54f0c6bb-dfda-4aef-80b6-4d77fb4c754c"
      },
      "outputs": [
        {
          "output_type": "stream",
          "name": "stdout",
          "text": [
            "File size reduced and saved to output.csv and output.csv.gz\n"
          ]
        }
      ],
      "source": [
        "import pandas as pd\n",
        "import gzip\n",
        "import shutil\n",
        "\n",
        "# Step 1: Load the CSV file\n",
        "input_file = '/content/U.S._Chronic_Disease_Indicators__CDI_ (1).csv'\n",
        "df = pd.read_csv(\"/content/U.S._Chronic_Disease_Indicators__CDI_ (1).csv\", low_memory=False)\n",
        "\n",
        "# Step 2: Data Aggregation and Summarization\n",
        "# Group by key columns and calculate summary statistics for numeric columns\n",
        "key_columns = ['LocationAbbr', 'Topic', 'Question']\n",
        "numeric_columns = ['DataValue', 'LowConfidenceLimit', 'HighConfidenceLimit']\n",
        "\n",
        "# Convert numeric columns to float32, and filter out non-numeric values\n",
        "df[numeric_columns] = df[numeric_columns].apply(pd.to_numeric, errors='coerce')\n",
        "df.dropna(subset=numeric_columns, inplace=True)\n",
        "\n",
        "# Group by key columns and calculate summary statistics\n",
        "agg_df = df.groupby(key_columns).agg({\n",
        "    'DataValue': 'mean',\n",
        "    'LowConfidenceLimit': 'min',\n",
        "    'HighConfidenceLimit': 'max'\n",
        "}).reset_index()\n",
        "\n",
        "# Step 3: Convert numerical columns to float32\n",
        "agg_df[numeric_columns] = agg_df[numeric_columns].astype('float32')\n",
        "\n",
        "# Step 4: Save the reduced DataFrame to a new CSV file\n",
        "output_file = 'output.csv'\n",
        "agg_df.to_csv(output_file, index=False)\n",
        "\n",
        "# Step 5: Compress the output CSV file using gzip\n",
        "with open(output_file, 'rb') as f_in, gzip.open('output.csv.gz', 'wb') as f_out:\n",
        "    shutil.copyfileobj(f_in, f_out)\n",
        "\n",
        "print(f\"File size reduced and saved to {output_file} and {output_file}.gz\")\n"
      ]
    }
  ]
}